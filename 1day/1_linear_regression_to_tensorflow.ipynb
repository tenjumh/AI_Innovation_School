{
 "cells": [
  {
   "cell_type": "markdown",
   "metadata": {},
   "source": [
    "# 기본적인 시각 "
   ]
  },
  {
   "cell_type": "code",
   "execution_count": 3,
   "metadata": {},
   "outputs": [],
   "source": [
    "import tensorflow as tf"
   ]
  },
  {
   "cell_type": "code",
   "execution_count": 5,
   "metadata": {},
   "outputs": [
    {
     "name": "stdout",
     "output_type": "stream",
     "text": [
      "Tensor(\"add:0\", shape=(), dtype=float32)\n"
     ]
    }
   ],
   "source": [
    "a = tf.constant(3.0)\n",
    "b = tf.constant(4.0)\n",
    "c = tf.constant(5.0)\n",
    "d = a * b + c\n",
    "print(d)"
   ]
  },
  {
   "cell_type": "markdown",
   "metadata": {},
   "source": [
    "- 먼저 Session()을 연결해 줌.\n",
    "- 만든 Session에 식을 넣어줌"
   ]
  },
  {
   "cell_type": "code",
   "execution_count": 6,
   "metadata": {},
   "outputs": [
    {
     "name": "stdout",
     "output_type": "stream",
     "text": [
      "17.0\n"
     ]
    }
   ],
   "source": [
    "# 그래프 실행\n",
    "sess = tf.Session()\n",
    "result = sess.run(d)\n",
    "print(result)"
   ]
  },
  {
   "cell_type": "markdown",
   "metadata": {},
   "source": [
    "## 데이터 자료구조\n",
    "- Constant(상수형) : 변하지 않는 값\n",
    "- Placeholder : 데이터를 담을 그릇\n",
    "- Variable : 학습을 통해서 구해야 하는 값\n",
    "\n",
    "### Constant(상수형)\n",
    "``` \n",
    "tf.constant([1,2,3,4,5,6,7])\n",
    "tf.constant(-1.0, shape=[2,3])\n",
    "```\n",
    "### Placeholder\n",
    "```\n",
    "tf.placeholder(dtype, shape=None, name=None)\n",
    "tf.placeholder(tf.float32)\n",
    "```\n",
    "### Variable(변수형)\n",
    "```\n",
    "tf.Variable(initial_value, trainable, name)\n",
    "# initial_value : tf.random_normal, 등\n",
    "tf.Variable(tf.random_normal(shape=[1], name='w'))\n",
    "```"
   ]
  },
  {
   "cell_type": "markdown",
   "metadata": {},
   "source": [
    "## Linear Regressin 예제"
   ]
  },
  {
   "cell_type": "code",
   "execution_count": 7,
   "metadata": {},
   "outputs": [
    {
     "name": "stdout",
     "output_type": "stream",
     "text": [
      "WARNING:tensorflow:From C:\\Anaconda3\\envs\\nlp\\lib\\site-packages\\tensorflow\\python\\framework\\op_def_library.py:263: colocate_with (from tensorflow.python.framework.ops) is deprecated and will be removed in a future version.\n",
      "Instructions for updating:\n",
      "Colocations handled automatically by placer.\n"
     ]
    }
   ],
   "source": [
    "# 입력 변수들을 선언하고 모델을 정의\n",
    "\n",
    "W = tf.Variable(tf.random_normal(shape=[1], name='w'))\n",
    "b = tf.Variable(tf.random_normal(shape=[1], name='b'))\n",
    "x = tf.placeholder(tf.float32)\n",
    "\n",
    "pred = W*x + b"
   ]
  },
  {
   "cell_type": "code",
   "execution_count": 8,
   "metadata": {},
   "outputs": [],
   "source": [
    "# 정답 변수를 정의하고 Cost Func정의 (MSE 사용)\n",
    "y = tf.placeholder(tf.float32)\n",
    "\n",
    "loss = tf.reduce_mean(tf.square(pred - y))"
   ]
  },
  {
   "cell_type": "code",
   "execution_count": 9,
   "metadata": {},
   "outputs": [
    {
     "name": "stdout",
     "output_type": "stream",
     "text": [
      "WARNING:tensorflow:From C:\\Anaconda3\\envs\\nlp\\lib\\site-packages\\tensorflow\\python\\ops\\math_ops.py:3066: to_int32 (from tensorflow.python.ops.math_ops) is deprecated and will be removed in a future version.\n",
      "Instructions for updating:\n",
      "Use tf.cast instead.\n"
     ]
    }
   ],
   "source": [
    "# Optimizer 정의\n",
    "optimizer = tf.train.GradientDescentOptimizer(0.01)\n",
    "\n",
    "# 정의한 optimizer로 loss식을 최소화하는 방향으로 진행\n",
    "train_step = optimizer.minimize(loss)"
   ]
  },
  {
   "cell_type": "code",
   "execution_count": 10,
   "metadata": {},
   "outputs": [],
   "source": [
    "# 자 이제 해보자. \n",
    "# y = 2x + 1\n",
    "x_train = [1,2,3,4]\n",
    "y_train = [3,5,7,9]"
   ]
  },
  {
   "cell_type": "code",
   "execution_count": 11,
   "metadata": {},
   "outputs": [],
   "source": [
    "# 무조건 변수를 초기화하고 세션을 맺어줌\n",
    "sess = tf.Session()\n",
    "result = sess.run(tf.global_variables_initializer())"
   ]
  },
  {
   "cell_type": "code",
   "execution_count": 12,
   "metadata": {},
   "outputs": [],
   "source": [
    "# 학습 진행\n",
    "# optimizer를 최소화(train_step)하는 학습을 몇번이고 학습 여기선 1000번\n",
    "for i in range(1000):\n",
    "    sess.run(train_step, feed_dict={x: x_train, y: y_train})"
   ]
  },
  {
   "cell_type": "code",
   "execution_count": 13,
   "metadata": {},
   "outputs": [
    {
     "name": "stdout",
     "output_type": "stream",
     "text": [
      "[ 7.000203  11.0069895 11.0069895 13.010382 ]\n"
     ]
    }
   ],
   "source": [
    "# 모델 테스트\n",
    "\n",
    "x_test = [3,5,5,6]\n",
    "\n",
    "print(sess.run(pred, feed_dict={x: x_test}))"
   ]
  }
 ],
 "metadata": {
  "kernelspec": {
   "display_name": "Python 3",
   "language": "python",
   "name": "python3"
  },
  "language_info": {
   "codemirror_mode": {
    "name": "ipython",
    "version": 3
   },
   "file_extension": ".py",
   "mimetype": "text/x-python",
   "name": "python",
   "nbconvert_exporter": "python",
   "pygments_lexer": "ipython3",
   "version": "3.6.10"
  }
 },
 "nbformat": 4,
 "nbformat_minor": 2
}
