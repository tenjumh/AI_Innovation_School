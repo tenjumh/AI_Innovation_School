{
 "cells": [
  {
   "cell_type": "code",
   "execution_count": 1,
   "metadata": {
    "colab": {
     "base_uri": "https://localhost:8080/",
     "height": 285
    },
    "colab_type": "code",
    "id": "TSbYTKBr16YH",
    "outputId": "e78456b7-5142-48a1-9a12-75e171a2e46d"
   },
   "outputs": [],
   "source": [
    "# pip install flickrapi"
   ]
  },
  {
   "cell_type": "code",
   "execution_count": 1,
   "metadata": {
    "colab": {
     "base_uri": "https://localhost:8080/",
     "height": 1000
    },
    "colab_type": "code",
    "id": "3X9PUHIz2XGf",
    "outputId": "506afc93-faa4-4899-9f3b-c46d4386e508"
   },
   "outputs": [
    {
     "name": "stdout",
     "output_type": "stream",
     "text": [
      "{'page': 1,\n",
      " 'pages': 36047,\n",
      " 'perpage': 5,\n",
      " 'photo': [{'farm': 66,\n",
      "            'height_s': 240,\n",
      "            'id': '49496094396',\n",
      "            'isfamily': 0,\n",
      "            'isfriend': 0,\n",
      "            'ispublic': 1,\n",
      "            'owner': '186307164@N02',\n",
      "            'secret': '7be5fde786',\n",
      "            'server': '65535',\n",
      "            'title': '#kitten #cat',\n",
      "            'url_s': 'https://live.staticflickr.com/65535/49496094396_7be5fde786_m.jpg',\n",
      "            'width_s': 200},\n",
      "           {'farm': 66,\n",
      "            'height_s': 240,\n",
      "            'id': '49495585371',\n",
      "            'isfamily': 0,\n",
      "            'isfriend': 0,\n",
      "            'ispublic': 1,\n",
      "            'owner': '26564404@N06',\n",
      "            'secret': '85716e8e12',\n",
      "            'server': '65535',\n",
      "            'title': 'Zoey Pumps Poster',\n",
      "            'url_s': 'https://live.staticflickr.com/65535/49495585371_85716e8e12_m.jpg',\n",
      "            'width_s': 106},\n",
      "           {'farm': 66,\n",
      "            'height_s': 240,\n",
      "            'id': '49495604987',\n",
      "            'isfamily': 0,\n",
      "            'isfriend': 0,\n",
      "            'ispublic': 1,\n",
      "            'owner': '85544610@N03',\n",
      "            'secret': '7fdf3db305',\n",
      "            'server': '65535',\n",
      "            'title': 'Chilling kitten',\n",
      "            'url_s': 'https://live.staticflickr.com/65535/49495604987_7fdf3db305_m.jpg',\n",
      "            'width_s': 135},\n",
      "           {'farm': 66,\n",
      "            'height_s': 160,\n",
      "            'id': '49494851928',\n",
      "            'isfamily': 0,\n",
      "            'isfriend': 0,\n",
      "            'ispublic': 1,\n",
      "            'owner': '143537090@N02',\n",
      "            'secret': '738046696d',\n",
      "            'server': '65535',\n",
      "            'title': 'Brown Tabby Cat',\n",
      "            'url_s': 'https://live.staticflickr.com/65535/49494851928_738046696d_m.jpg',\n",
      "            'width_s': 240},\n",
      "           {'farm': 66,\n",
      "            'height_s': 227,\n",
      "            'id': '49495333891',\n",
      "            'isfamily': 0,\n",
      "            'isfriend': 0,\n",
      "            'ispublic': 1,\n",
      "            'owner': '186467977@N07',\n",
      "            'secret': '92b847de20',\n",
      "            'server': '65535',\n",
      "            'title': 'Best Dogs Collars Reviews',\n",
      "            'url_s': 'https://live.staticflickr.com/65535/49495333891_92b847de20_m.jpg',\n",
      "            'width_s': 240}],\n",
      " 'total': '180233'}\n"
     ]
    }
   ],
   "source": [
    "from flickrapi import FlickrAPI\n",
    "\n",
    "FLICKER_KEY = '505e8c2b05e8b5aa51766a43fc4bc7a7'\n",
    "FLICKER_SECRET = '46b3ef2f43b04ac6'\n",
    "\n",
    "flickr = FlickrAPI(FLICKER_KEY, FLICKER_SECRET, format='parsed-json')\n",
    "extras='url_s'\n",
    "# extras='url_sq,url_t,url_s,url_q,url_m,url_n,url_z,url_c,url_l,url_o'\n",
    "\n",
    "cats = flickr.photos.search(text='kitten', per_page=5, extras=extras)\n",
    "photos = cats['photos']\n",
    "\n",
    "from pprint import pprint\n",
    "pprint(photos)"
   ]
  },
  {
   "cell_type": "code",
   "execution_count": 2,
   "metadata": {
    "colab": {},
    "colab_type": "code",
    "id": "NRgnGMlv4ZiZ"
   },
   "outputs": [],
   "source": [
    "# import the necessary packages\n",
    "import numpy as np\n",
    "import urllib\n",
    "import cv2\n",
    "\n",
    "# METHOD #1: OpenCV, NumPy, and urllib\n",
    "def url_to_image(url):\n",
    "# download the image, convert it to a NumPy array, and then read\n",
    "# it into OpenCV format\n",
    "    resp = urllib.request.urlopen(url)\n",
    "    image = np.asarray(bytearray(resp.read()), dtype=\"uint8\")\n",
    "    image = cv2.imdecode(image, cv2.IMREAD_COLOR)\n",
    "\n",
    "    return image"
   ]
  },
  {
   "cell_type": "code",
   "execution_count": 3,
   "metadata": {
    "colab": {
     "base_uri": "https://localhost:8080/",
     "height": 413
    },
    "colab_type": "code",
    "id": "CmMHVn-T4mvH",
    "outputId": "d13e6de1-7c29-48d5-fbca-0a17bf7a651e"
   },
   "outputs": [
    {
     "name": "stdout",
     "output_type": "stream",
     "text": [
      "downlaod: https://live.staticflickr.com/65535/48239557012_4408050887_m.jpg\n",
      "downlaod: https://live.staticflickr.com/65535/48239467791_c85039d01f_m.jpg\n"
     ]
    }
   ],
   "source": [
    "# from google.colab.patches import cv2_imshow\n",
    "\n",
    "# initialize the list of image URLs to download\n",
    "urls = [\n",
    "    \"https://live.staticflickr.com/65535/48239557012_4408050887_m.jpg\",\n",
    "    \"https://live.staticflickr.com/65535/48239467791_c85039d01f_m.jpg\"\n",
    "]\n",
    " \n",
    "# loop over the image URLs\n",
    "for url in urls:\n",
    "    # download the image URL and display it\n",
    "    print('downlaod:', url)\n",
    "    image = url_to_image(url)\n",
    "    cv2.imshow('IMAGE', image)"
   ]
  },
  {
   "cell_type": "markdown",
   "metadata": {
    "colab": {
     "base_uri": "https://localhost:8080/",
     "height": 126
    },
    "colab_type": "code",
    "id": "NAx3XCycvy6M",
    "outputId": "8db31c95-d54a-48b0-b237-81c6d4708cd3"
   },
   "source": [
    "- Google Drive에 마운트 (파일 저장 등)\n",
    "```\n",
    "from google.colab import auth\n",
    "auth.authenticate_user()\n",
    "from google.colab import drive\n",
    "drive.mount('/content/gdrive')\n",
    "```"
   ]
  },
  {
   "cell_type": "code",
   "execution_count": 6,
   "metadata": {
    "colab": {
     "base_uri": "https://localhost:8080/",
     "height": 35
    },
    "colab_type": "code",
    "id": "3vUL6EMcmO9e",
    "outputId": "74d1fff8-b55f-488e-d18c-9e456c78c84a"
   },
   "outputs": [
    {
     "name": "stdout",
     "output_type": "stream",
     "text": [
      "adc.json  gdrive  sample_data\n"
     ]
    }
   ],
   "source": [
    "!ls"
   ]
  },
  {
   "cell_type": "code",
   "execution_count": 0,
   "metadata": {
    "colab": {},
    "colab_type": "code",
    "id": "cqs8WPzKwD_E"
   },
   "outputs": [],
   "source": [
    "base_dir = '/content/gdrive/My Drive/datasets/'"
   ]
  },
  {
   "cell_type": "code",
   "execution_count": 8,
   "metadata": {
    "colab": {
     "base_uri": "https://localhost:8080/",
     "height": 35
    },
    "colab_type": "code",
    "id": "FA7I8BN0wPEp",
    "outputId": "ac72acea-8155-4924-a467-f68c80b4310a"
   },
   "outputs": [
    {
     "name": "stdout",
     "output_type": "stream",
     "text": [
      "adc.json  gdrive  sample_data\n"
     ]
    }
   ],
   "source": [
    "!ls"
   ]
  },
  {
   "cell_type": "code",
   "execution_count": 5,
   "metadata": {
    "colab": {
     "base_uri": "https://localhost:8080/",
     "height": 963
    },
    "colab_type": "code",
    "id": "vRTC_DVY-0af",
    "outputId": "cb723661-7cd2-4beb-c6da-0219999f4da7"
   },
   "outputs": [],
   "source": [
    "# from google.colab.patches import cv2_imshow\n",
    "for i in range(5):\n",
    "    image_original_url = photos['photo'][i]['url_s']\n",
    "    image_temp = url_to_image(image_original_url)\n",
    "    file_name = './image/cats_{}.jpg'.format(i)\n",
    "    cv2.imwrite(file_name, image_temp)\n",
    "    cv2.imshow('image_temp', image_temp)\n",
    "    cv2.waitKey(0)"
   ]
  },
  {
   "cell_type": "code",
   "execution_count": 6,
   "metadata": {
    "colab": {
     "base_uri": "https://localhost:8080/",
     "height": 35
    },
    "colab_type": "code",
    "id": "9jJ4EQ--ANlm",
    "outputId": "29fd236d-081c-4b12-a935-2b239168ab0c"
   },
   "outputs": [
    {
     "name": "stdout",
     "output_type": "stream",
     "text": [
      "(227, 240, 3)\n"
     ]
    }
   ],
   "source": [
    "print(image_temp.shape)"
   ]
  },
  {
   "cell_type": "code",
   "execution_count": 7,
   "metadata": {
    "colab": {},
    "colab_type": "code",
    "id": "uhw7LGI-qkSm"
   },
   "outputs": [],
   "source": [
    "def image_resize(image, x, y):\n",
    "    return cv2.resize(image, (x, y))"
   ]
  },
  {
   "cell_type": "code",
   "execution_count": 8,
   "metadata": {
    "colab": {},
    "colab_type": "code",
    "id": "8NsFNKmoq7u4"
   },
   "outputs": [],
   "source": [
    "resized = image_resize(image_temp, 224, 224)"
   ]
  },
  {
   "cell_type": "code",
   "execution_count": 11,
   "metadata": {
    "colab": {
     "base_uri": "https://localhost:8080/",
     "height": 259
    },
    "colab_type": "code",
    "id": "sA24rDnerC92",
    "outputId": "301b0a21-5dc6-4088-c14d-f7eff760e41c"
   },
   "outputs": [
    {
     "name": "stdout",
     "output_type": "stream",
     "text": [
      "(224, 224, 3)\n"
     ]
    },
    {
     "data": {
      "text/plain": [
       "-1"
      ]
     },
     "execution_count": 11,
     "metadata": {},
     "output_type": "execute_result"
    }
   ],
   "source": [
    "print(resized.shape)\n",
    "cv2.imshow('resized', resized)\n",
    "cv2.waitKey(0)"
   ]
  },
  {
   "cell_type": "code",
   "execution_count": 12,
   "metadata": {
    "colab": {},
    "colab_type": "code",
    "id": "MnQHsRocrxy7"
   },
   "outputs": [],
   "source": [
    "resized = np.expand_dims(resized, axis=0)"
   ]
  },
  {
   "cell_type": "code",
   "execution_count": 13,
   "metadata": {
    "colab": {
     "base_uri": "https://localhost:8080/",
     "height": 35
    },
    "colab_type": "code",
    "id": "pDBOY8wMr6ql",
    "outputId": "cc86d37d-7133-4cfe-8f74-010e13375b8a"
   },
   "outputs": [
    {
     "name": "stdout",
     "output_type": "stream",
     "text": [
      "(1, 224, 224, 3)\n"
     ]
    }
   ],
   "source": [
    "print(resized.shape)"
   ]
  },
  {
   "cell_type": "code",
   "execution_count": 15,
   "metadata": {
    "colab": {
     "base_uri": "https://localhost:8080/",
     "height": 241
    },
    "colab_type": "code",
    "id": "hShvEK0ZrMR2",
    "outputId": "9d9cf48f-7285-4312-efb5-1026ef235487"
   },
   "outputs": [
    {
     "data": {
      "text/plain": [
       "-1"
      ]
     },
     "execution_count": 15,
     "metadata": {},
     "output_type": "execute_result"
    }
   ],
   "source": [
    "cv2.imshow('squeeze_resized', np.squeeze(resized))\n",
    "cv2.waitKey(0)"
   ]
  },
  {
   "cell_type": "code",
   "execution_count": null,
   "metadata": {},
   "outputs": [],
   "source": []
  }
 ],
 "metadata": {
  "colab": {
   "collapsed_sections": [],
   "name": "Flicker_application.ipynb",
   "provenance": [],
   "version": "0.3.2"
  },
  "kernelspec": {
   "display_name": "Python 3",
   "language": "python",
   "name": "python3"
  },
  "language_info": {
   "codemirror_mode": {
    "name": "ipython",
    "version": 3
   },
   "file_extension": ".py",
   "mimetype": "text/x-python",
   "name": "python",
   "nbconvert_exporter": "python",
   "pygments_lexer": "ipython3",
   "version": "3.6.10"
  }
 },
 "nbformat": 4,
 "nbformat_minor": 1
}
