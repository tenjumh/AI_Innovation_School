{
 "cells": [
  {
   "cell_type": "code",
   "execution_count": 11,
   "metadata": {},
   "outputs": [
    {
     "name": "stdout",
     "output_type": "stream",
     "text": [
      "(240, 240, 3)\n"
     ]
    },
    {
     "data": {
      "text/plain": [
       "True"
      ]
     },
     "execution_count": 11,
     "metadata": {},
     "output_type": "execute_result"
    }
   ],
   "source": [
    "import numpy as np\n",
    "from scipy import ndimage\n",
    "import scipy\n",
    "import cv2\n",
    "\n",
    "location = './datasets/train/Cats/cats_0.jpg'\n",
    "\n",
    "img = cv2.imread(location)\n",
    "print(img.shape)\n",
    "if img is None:\n",
    "    ('Image load failed!')\n",
    "\n",
    "flip_down = np.flipud(img)\n",
    "cv2.imshow(\"image\", flip_down)\n",
    "cv2.waitKey(0)\n",
    "cv2.imwrite('./datasets/train/Cats/cats_fl_0.jpg', flip_down)"
   ]
  },
  {
   "cell_type": "code",
   "execution_count": 7,
   "metadata": {},
   "outputs": [],
   "source": [
    "import os\n",
    "location = './datasets/train/Cats/'\n",
    "image_list = os.listdir(location)"
   ]
  },
  {
   "cell_type": "code",
   "execution_count": 8,
   "metadata": {},
   "outputs": [
    {
     "data": {
      "text/plain": [
       "['cats_0.jpg',\n",
       " 'cats_1.jpg',\n",
       " 'cats_10.jpg',\n",
       " 'cats_11.jpg',\n",
       " 'cats_12.jpg',\n",
       " 'cats_13.jpg',\n",
       " 'cats_14.jpg',\n",
       " 'cats_15.jpg',\n",
       " 'cats_16.jpg',\n",
       " 'cats_17.jpg',\n",
       " 'cats_18.jpg',\n",
       " 'cats_19.jpg',\n",
       " 'cats_2.jpg',\n",
       " 'cats_20.jpg',\n",
       " 'cats_21.jpg',\n",
       " 'cats_22.jpg',\n",
       " 'cats_23.jpg',\n",
       " 'cats_24.jpg',\n",
       " 'cats_25.jpg',\n",
       " 'cats_26.jpg',\n",
       " 'cats_27.jpg',\n",
       " 'cats_28.jpg',\n",
       " 'cats_29.jpg',\n",
       " 'cats_3.jpg',\n",
       " 'cats_30.jpg',\n",
       " 'cats_31.jpg',\n",
       " 'cats_32.jpg',\n",
       " 'cats_33.jpg',\n",
       " 'cats_34.jpg',\n",
       " 'cats_35.jpg',\n",
       " 'cats_36.jpg',\n",
       " 'cats_37.jpg',\n",
       " 'cats_38.jpg',\n",
       " 'cats_39.jpg',\n",
       " 'cats_4.jpg',\n",
       " 'cats_40.jpg',\n",
       " 'cats_41.jpg',\n",
       " 'cats_42.jpg',\n",
       " 'cats_43.jpg',\n",
       " 'cats_44.jpg',\n",
       " 'cats_45.jpg',\n",
       " 'cats_46.jpg',\n",
       " 'cats_47.jpg',\n",
       " 'cats_48.jpg',\n",
       " 'cats_49.jpg',\n",
       " 'cats_5.jpg',\n",
       " 'cats_50.jpg',\n",
       " 'cats_51.jpg',\n",
       " 'cats_52.jpg',\n",
       " 'cats_53.jpg',\n",
       " 'cats_54.jpg',\n",
       " 'cats_55.jpg',\n",
       " 'cats_56.jpg',\n",
       " 'cats_57.jpg',\n",
       " 'cats_58.jpg',\n",
       " 'cats_59.jpg',\n",
       " 'cats_6.jpg',\n",
       " 'cats_60.jpg',\n",
       " 'cats_61.jpg',\n",
       " 'cats_62.jpg',\n",
       " 'cats_63.jpg',\n",
       " 'cats_64.jpg',\n",
       " 'cats_65.jpg',\n",
       " 'cats_66.jpg',\n",
       " 'cats_67.jpg',\n",
       " 'cats_68.jpg',\n",
       " 'cats_69.jpg',\n",
       " 'cats_7.jpg',\n",
       " 'cats_70.jpg',\n",
       " 'cats_8.jpg',\n",
       " 'cats_9.jpg',\n",
       " 'cats_fl_0.jpg']"
      ]
     },
     "execution_count": 8,
     "metadata": {},
     "output_type": "execute_result"
    }
   ],
   "source": [
    "image_list"
   ]
  },
  {
   "cell_type": "code",
   "execution_count": 10,
   "metadata": {},
   "outputs": [
    {
     "name": "stdout",
     "output_type": "stream",
     "text": [
      "[64 49 17 16 35]\n"
     ]
    }
   ],
   "source": [
    "index = np.random.choice(len(image_list), 5)\n",
    "print(index)"
   ]
  },
  {
   "cell_type": "code",
   "execution_count": 13,
   "metadata": {},
   "outputs": [
    {
     "name": "stdout",
     "output_type": "stream",
     "text": [
      "./datasets/train/Cats/cats_22.jpg\n",
      "./datasets/train/Cats/cats_41.jpg\n",
      "./datasets/train/Cats/cats_10.jpg\n",
      "./datasets/train/Cats/cats_0.jpg\n",
      "./datasets/train/Cats/cats_16.jpg\n"
     ]
    }
   ],
   "source": [
    "index = np.random.choice(len(image_list), 5, replace=False)\n",
    "\n",
    "count = 0\n",
    "for i in index:\n",
    "    location = './datasets/train/Cats/cats_{}.jpg'.format(i)\n",
    "    print(location)\n",
    "    \n",
    "    image = cv2.imread(location)\n",
    "    if i % 2 == 0:\n",
    "        image = np.flipud(image)\n",
    "    elif i % 3 == 0:\n",
    "        image = ndimage.rotate(image, np.random.choice(45, 1)[0])\n",
    "    elif i % 5 == 0:\n",
    "        image = ndimage.gaussian_filter(image, sigma=np.random.choice(5, 1)[0])\n",
    "    \n",
    "    location = './datasets/train/Cats/cats_fl_{}.jpg'.format(i)\n",
    "    cv2.imwrite(location, image)\n",
    "    count += 1"
   ]
  },
  {
   "cell_type": "code",
   "execution_count": null,
   "metadata": {},
   "outputs": [],
   "source": []
  }
 ],
 "metadata": {
  "kernelspec": {
   "display_name": "Python 3",
   "language": "python",
   "name": "python3"
  },
  "language_info": {
   "codemirror_mode": {
    "name": "ipython",
    "version": 3
   },
   "file_extension": ".py",
   "mimetype": "text/x-python",
   "name": "python",
   "nbconvert_exporter": "python",
   "pygments_lexer": "ipython3",
   "version": "3.6.10"
  }
 },
 "nbformat": 4,
 "nbformat_minor": 4
}
