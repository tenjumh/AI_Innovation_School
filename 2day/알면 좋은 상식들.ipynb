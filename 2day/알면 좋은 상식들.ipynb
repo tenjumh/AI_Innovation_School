{
 "cells": [
  {
   "cell_type": "code",
   "execution_count": null,
   "metadata": {},
   "outputs": [],
   "source": [
    "### - 슈퍼레졸루션 : 해상도 높이는 작업.\n",
    "\n",
    "### - semantic seg : 모든 픽셀에 라벨링하여 학습\n",
    "### - instance seg : 오브젝트(바운딩박스)를 찾고 분류한 후 그것을 세그멘트 \n",
    "### - panoptic seg : semantic + instance seg를 같이하는 방식\n",
    "\n",
    "### - fast interactive object annotation tool (Curve-GCN)이라는 좋은 어노테이션 툴이 있어"
   ]
  },
  {
   "cell_type": "code",
   "execution_count": null,
   "metadata": {},
   "outputs": [],
   "source": []
  }
 ],
 "metadata": {
  "kernelspec": {
   "display_name": "Python 3",
   "language": "python",
   "name": "python3"
  },
  "language_info": {
   "codemirror_mode": {
    "name": "ipython",
    "version": 3
   },
   "file_extension": ".py",
   "mimetype": "text/x-python",
   "name": "python",
   "nbconvert_exporter": "python",
   "pygments_lexer": "ipython3",
   "version": "3.6.10"
  }
 },
 "nbformat": 4,
 "nbformat_minor": 2
}
