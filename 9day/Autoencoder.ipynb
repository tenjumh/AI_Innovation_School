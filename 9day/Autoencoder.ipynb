{
 "cells": [
  {
   "cell_type": "markdown",
   "metadata": {},
   "source": [
    "## 딥러닝을 통한 오토인코더 이해하기"
   ]
  },
  {
   "cell_type": "code",
   "execution_count": 13,
   "metadata": {},
   "outputs": [],
   "source": [
    "from keras.layers import Input, Dense\n",
    "from keras.models import Model"
   ]
  },
  {
   "cell_type": "markdown",
   "metadata": {},
   "source": [
    "### 설명\n",
    "- input으로 mnist 28*28가 펼쳐저서 784가 들어온다.\n",
    "- encode층에서는 input을 32로 feature를 줄이고\n",
    "- decode층에서는 32로 축소된 feature를 다시 784로 확대한다.\n",
    "- **이러면 32로 축소될 때 일부가 소실(영향력이 적은 feature)되고 복구된다.**\n",
    "- **차원축소의 일부라고 보면 됨**"
   ]
  },
  {
   "cell_type": "code",
   "execution_count": 14,
   "metadata": {},
   "outputs": [],
   "source": [
    "encoding_dim = 32 # 32 floats-> compression of factor 24.5, assuming the input is 784 floate.\n",
    "\n",
    "input_img = Input(shape=(784,))\n",
    "encoded = Dense(encoding_dim, activation='relu')(input_img)\n",
    "decoded = Dense(784, activation='sigmoid')(encoded)\n",
    "\n",
    "autoencoder = Model(input_img, decoded)"
   ]
  },
  {
   "cell_type": "code",
   "execution_count": 15,
   "metadata": {},
   "outputs": [
    {
     "data": {
      "text/plain": [
       "'\\nencoder = Model(input_img, encoded)\\nencoder.summary()\\n'"
      ]
     },
     "execution_count": 15,
     "metadata": {},
     "output_type": "execute_result"
    }
   ],
   "source": [
    "'''\n",
    "encoder = Model(input_img, encoded)\n",
    "encoder.summary()\n",
    "'''"
   ]
  },
  {
   "cell_type": "code",
   "execution_count": 16,
   "metadata": {},
   "outputs": [
    {
     "data": {
      "text/plain": [
       "'\\nencoded_input = Input(shape=(encoding_dim,))\\ndecoder_layer = autoencoder.layers[-1]\\ndecoder = Model(encoded_input, decoder_layer(encoded_input))\\ndecoder.summary()\\n'"
      ]
     },
     "execution_count": 16,
     "metadata": {},
     "output_type": "execute_result"
    }
   ],
   "source": [
    "'''\n",
    "encoded_input = Input(shape=(encoding_dim,))\n",
    "decoder_layer = autoencoder.layers[-1]\n",
    "decoder = Model(encoded_input, decoder_layer(encoded_input))\n",
    "decoder.summary()\n",
    "'''"
   ]
  },
  {
   "cell_type": "code",
   "execution_count": 17,
   "metadata": {},
   "outputs": [],
   "source": [
    "autoencoder.compile(optimizer='adadelta', loss='binary_crossentropy')"
   ]
  },
  {
   "cell_type": "code",
   "execution_count": 18,
   "metadata": {},
   "outputs": [],
   "source": [
    "from keras.datasets import mnist\n",
    "import numpy as np\n",
    "(x_train,_),(x_test,_) = mnist.load_data()"
   ]
  },
  {
   "cell_type": "code",
   "execution_count": 19,
   "metadata": {},
   "outputs": [
    {
     "name": "stdout",
     "output_type": "stream",
     "text": [
      "(60000, 784)\n",
      "(10000, 784)\n"
     ]
    }
   ],
   "source": [
    "x_train = x_train.astype('float32') / 255.\n",
    "x_test = x_test.astype('float32') / 255.\n",
    "\n",
    "# np.prod곱셈. (shape - (0,1,2,3)이라면 1,2,3을 곱해라. 0은 데이터 개수 차원임)\n",
    "x_train = x_train.reshape((len(x_train), np.prod(x_train.shape[1:])))\n",
    "x_test = x_test.reshape((len(x_test), np.prod(x_test.shape[1:])))\n",
    "print(x_train.shape)\n",
    "print(x_test.shape)"
   ]
  },
  {
   "cell_type": "code",
   "execution_count": 20,
   "metadata": {},
   "outputs": [
    {
     "name": "stdout",
     "output_type": "stream",
     "text": [
      "Train on 60000 samples, validate on 10000 samples\n",
      "Epoch 1/50\n",
      "60000/60000 [==============================] - 1s 21us/step - loss: 0.3687 - val_loss: 0.2723\n",
      "Epoch 2/50\n",
      "60000/60000 [==============================] - 1s 17us/step - loss: 0.2658 - val_loss: 0.2561\n",
      "Epoch 3/50\n",
      "60000/60000 [==============================] - 1s 18us/step - loss: 0.2454 - val_loss: 0.2327\n",
      "Epoch 4/50\n",
      "60000/60000 [==============================] - 1s 18us/step - loss: 0.2242 - val_loss: 0.2136\n",
      "Epoch 5/50\n",
      "60000/60000 [==============================] - 1s 17us/step - loss: 0.2080 - val_loss: 0.2001\n",
      "Epoch 6/50\n",
      "60000/60000 [==============================] - 1s 18us/step - loss: 0.1967 - val_loss: 0.1907\n",
      "Epoch 7/50\n",
      "60000/60000 [==============================] - 1s 17us/step - loss: 0.1882 - val_loss: 0.1832\n",
      "Epoch 8/50\n",
      "60000/60000 [==============================] - 1s 18us/step - loss: 0.1815 - val_loss: 0.1770\n",
      "Epoch 9/50\n",
      "60000/60000 [==============================] - 1s 18us/step - loss: 0.1759 - val_loss: 0.1719\n",
      "Epoch 10/50\n",
      "60000/60000 [==============================] - 1s 18us/step - loss: 0.1711 - val_loss: 0.1675\n",
      "Epoch 11/50\n",
      "60000/60000 [==============================] - 1s 18us/step - loss: 0.1668 - val_loss: 0.1634\n",
      "Epoch 12/50\n",
      "60000/60000 [==============================] - 1s 17us/step - loss: 0.1629 - val_loss: 0.1596\n",
      "Epoch 13/50\n",
      "60000/60000 [==============================] - 1s 19us/step - loss: 0.1592 - val_loss: 0.1560\n",
      "Epoch 14/50\n",
      "60000/60000 [==============================] - 1s 17us/step - loss: 0.1556 - val_loss: 0.1525\n",
      "Epoch 15/50\n",
      "60000/60000 [==============================] - 1s 18us/step - loss: 0.1523 - val_loss: 0.1494\n",
      "Epoch 16/50\n",
      "60000/60000 [==============================] - 1s 18us/step - loss: 0.1492 - val_loss: 0.1463\n",
      "Epoch 17/50\n",
      "60000/60000 [==============================] - 1s 18us/step - loss: 0.1463 - val_loss: 0.1435\n",
      "Epoch 18/50\n",
      "60000/60000 [==============================] - 1s 18us/step - loss: 0.1436 - val_loss: 0.1408\n",
      "Epoch 19/50\n",
      "60000/60000 [==============================] - 1s 17us/step - loss: 0.1410 - val_loss: 0.1383\n",
      "Epoch 20/50\n",
      "60000/60000 [==============================] - 1s 18us/step - loss: 0.1387 - val_loss: 0.1361\n",
      "Epoch 21/50\n",
      "60000/60000 [==============================] - 1s 18us/step - loss: 0.1364 - val_loss: 0.1339\n",
      "Epoch 22/50\n",
      "60000/60000 [==============================] - 1s 17us/step - loss: 0.1343 - val_loss: 0.1318\n",
      "Epoch 23/50\n",
      "60000/60000 [==============================] - 1s 18us/step - loss: 0.1323 - val_loss: 0.1299\n",
      "Epoch 24/50\n",
      "60000/60000 [==============================] - 1s 18us/step - loss: 0.1304 - val_loss: 0.1279\n",
      "Epoch 25/50\n",
      "60000/60000 [==============================] - 1s 18us/step - loss: 0.1286 - val_loss: 0.1262\n",
      "Epoch 26/50\n",
      "60000/60000 [==============================] - 1s 18us/step - loss: 0.1269 - val_loss: 0.1245\n",
      "Epoch 27/50\n",
      "60000/60000 [==============================] - 1s 18us/step - loss: 0.1252 - val_loss: 0.1229\n",
      "Epoch 28/50\n",
      "60000/60000 [==============================] - 1s 19us/step - loss: 0.1237 - val_loss: 0.1213\n",
      "Epoch 29/50\n",
      "60000/60000 [==============================] - 1s 18us/step - loss: 0.1222 - val_loss: 0.1198\n",
      "Epoch 30/50\n",
      "60000/60000 [==============================] - 1s 17us/step - loss: 0.1208 - val_loss: 0.1185\n",
      "Epoch 31/50\n",
      "60000/60000 [==============================] - 1s 18us/step - loss: 0.1194 - val_loss: 0.1172\n",
      "Epoch 32/50\n",
      "60000/60000 [==============================] - 1s 17us/step - loss: 0.1182 - val_loss: 0.1160\n",
      "Epoch 33/50\n",
      "60000/60000 [==============================] - 1s 17us/step - loss: 0.1170 - val_loss: 0.1149\n",
      "Epoch 34/50\n",
      "60000/60000 [==============================] - 1s 18us/step - loss: 0.1159 - val_loss: 0.1138\n",
      "Epoch 35/50\n",
      "60000/60000 [==============================] - 1s 18us/step - loss: 0.1149 - val_loss: 0.1128\n",
      "Epoch 36/50\n",
      "60000/60000 [==============================] - 1s 18us/step - loss: 0.1140 - val_loss: 0.1119\n",
      "Epoch 37/50\n",
      "60000/60000 [==============================] - 1s 18us/step - loss: 0.1131 - val_loss: 0.1111\n",
      "Epoch 38/50\n",
      "60000/60000 [==============================] - 1s 17us/step - loss: 0.1123 - val_loss: 0.1103\n",
      "Epoch 39/50\n",
      "60000/60000 [==============================] - 1s 18us/step - loss: 0.1116 - val_loss: 0.1096\n",
      "Epoch 40/50\n",
      "60000/60000 [==============================] - 1s 17us/step - loss: 0.1109 - val_loss: 0.1089\n",
      "Epoch 41/50\n",
      "60000/60000 [==============================] - 1s 17us/step - loss: 0.1102 - val_loss: 0.1083\n",
      "Epoch 42/50\n",
      "60000/60000 [==============================] - 1s 18us/step - loss: 0.1096 - val_loss: 0.1077\n",
      "Epoch 43/50\n",
      "60000/60000 [==============================] - 1s 19us/step - loss: 0.1091 - val_loss: 0.1072\n",
      "Epoch 44/50\n",
      "60000/60000 [==============================] - 1s 17us/step - loss: 0.1086 - val_loss: 0.1067\n",
      "Epoch 45/50\n",
      "60000/60000 [==============================] - 1s 18us/step - loss: 0.1081 - val_loss: 0.1062\n",
      "Epoch 46/50\n",
      "60000/60000 [==============================] - 1s 17us/step - loss: 0.1076 - val_loss: 0.1058\n",
      "Epoch 47/50\n",
      "60000/60000 [==============================] - 1s 19us/step - loss: 0.1072 - val_loss: 0.1054\n",
      "Epoch 48/50\n",
      "60000/60000 [==============================] - 1s 18us/step - loss: 0.1068 - val_loss: 0.1050\n",
      "Epoch 49/50\n",
      "60000/60000 [==============================] - 1s 17us/step - loss: 0.1065 - val_loss: 0.1046\n",
      "Epoch 50/50\n",
      "60000/60000 [==============================] - 1s 17us/step - loss: 0.1061 - val_loss: 0.1043\n"
     ]
    },
    {
     "data": {
      "text/plain": [
       "<keras.callbacks.callbacks.History at 0x1e686a83c88>"
      ]
     },
     "execution_count": 20,
     "metadata": {},
     "output_type": "execute_result"
    }
   ],
   "source": [
    "autoencoder.fit(x_train, x_train, epochs=50, batch_size=256, shuffle=True,\n",
    "               validation_data=(x_test, x_test))"
   ]
  },
  {
   "cell_type": "code",
   "execution_count": 21,
   "metadata": {},
   "outputs": [],
   "source": [
    "encoded_imgs = encoder.predict(x_test)\n",
    "decoded_imgs = decoder.predict(encoded_imgs)"
   ]
  },
  {
   "cell_type": "code",
   "execution_count": 22,
   "metadata": {},
   "outputs": [
    {
     "data": {
      "image/png": "[encoded data removed]",
      "text/plain": [
       "<Figure size 1440x288 with 20 Axes>"
      ]
     },
     "metadata": {
      "needs_background": "light"
     },
     "output_type": "display_data"
    }
   ],
   "source": [
    "# use Matplotlib (don't ask)\n",
    "import matplotlib.pyplot as plt\n",
    "\n",
    "n = 10  # how many digits we will display\n",
    "plt.figure(figsize=(20, 4))\n",
    "for i in range(n):\n",
    "    # display original\n",
    "    ax = plt.subplot(2, n, i + 1)\n",
    "    plt.imshow(x_test[i].reshape(28, 28))\n",
    "    plt.gray()\n",
    "    ax.get_xaxis().set_visible(False)\n",
    "    ax.get_yaxis().set_visible(False)\n",
    "\n",
    "    # display reconstruction\n",
    "    ax = plt.subplot(2, n, i + 1 + n)\n",
    "    plt.imshow(decoded_imgs[i].reshape(28, 28))\n",
    "    plt.gray()\n",
    "    ax.get_xaxis().set_visible(False)\n",
    "    ax.get_yaxis().set_visible(False)\n",
    "plt.show()"
   ]
  },
  {
   "cell_type": "code",
   "execution_count": 23,
   "metadata": {},
   "outputs": [],
   "source": [
    "input_img = Input(shape=(784,))\n",
    "encoded = Dense(128, activation='relu')(input_img)\n",
    "encoded = Dense(64, activation='relu')(encoded)\n",
    "encoded = Dense(32, activation='relu')(encoded)\n",
    "\n",
    "decoded = Dense(64, activation='relu')(encoded)\n",
    "decoded = Dense(128, activation='relu')(decoded)\n",
    "decoded = Dense(784, activation='sigmoid')(decoded)"
   ]
  },
  {
   "cell_type": "code",
   "execution_count": 24,
   "metadata": {},
   "outputs": [
    {
     "name": "stdout",
     "output_type": "stream",
     "text": [
      "Train on 60000 samples, validate on 10000 samples\n",
      "Epoch 1/100\n",
      "60000/60000 [==============================] - 2s 27us/step - loss: 0.3385 - val_loss: 0.2642\n",
      "Epoch 2/100\n",
      "60000/60000 [==============================] - 1s 21us/step - loss: 0.2574 - val_loss: 0.2517\n",
      "Epoch 3/100\n",
      "60000/60000 [==============================] - 1s 21us/step - loss: 0.2409 - val_loss: 0.2295\n",
      "Epoch 4/100\n",
      "60000/60000 [==============================] - 1s 22us/step - loss: 0.2208 - val_loss: 0.2117\n",
      "Epoch 5/100\n",
      "60000/60000 [==============================] - 1s 21us/step - loss: 0.2068 - val_loss: 0.1973\n",
      "Epoch 6/100\n",
      "60000/60000 [==============================] - 1s 22us/step - loss: 0.1924 - val_loss: 0.1841\n",
      "Epoch 7/100\n",
      "60000/60000 [==============================] - 1s 21us/step - loss: 0.1821 - val_loss: 0.1775\n",
      "Epoch 8/100\n",
      "60000/60000 [==============================] - 1s 21us/step - loss: 0.1760 - val_loss: 0.1704\n",
      "Epoch 9/100\n",
      "60000/60000 [==============================] - 1s 21us/step - loss: 0.1705 - val_loss: 0.1691\n",
      "Epoch 10/100\n",
      "60000/60000 [==============================] - 1s 21us/step - loss: 0.1650 - val_loss: 0.1600\n",
      "Epoch 11/100\n",
      "60000/60000 [==============================] - 1s 21us/step - loss: 0.1603 - val_loss: 0.1566\n",
      "Epoch 12/100\n",
      "60000/60000 [==============================] - 1s 21us/step - loss: 0.1567 - val_loss: 0.1543\n",
      "Epoch 13/100\n",
      "60000/60000 [==============================] - 1s 22us/step - loss: 0.1535 - val_loss: 0.1527\n",
      "Epoch 14/100\n",
      "60000/60000 [==============================] - 1s 21us/step - loss: 0.1505 - val_loss: 0.1479\n",
      "Epoch 15/100\n",
      "60000/60000 [==============================] - 1s 21us/step - loss: 0.1479 - val_loss: 0.1459\n",
      "Epoch 16/100\n",
      "60000/60000 [==============================] - 1s 22us/step - loss: 0.1452 - val_loss: 0.1431\n",
      "Epoch 17/100\n",
      "60000/60000 [==============================] - 1s 21us/step - loss: 0.1433 - val_loss: 0.1421\n",
      "Epoch 18/100\n",
      "60000/60000 [==============================] - 1s 22us/step - loss: 0.1412 - val_loss: 0.1392\n",
      "Epoch 19/100\n",
      "60000/60000 [==============================] - 1s 23us/step - loss: 0.1394 - val_loss: 0.1394\n",
      "Epoch 20/100\n",
      "60000/60000 [==============================] - 1s 21us/step - loss: 0.1374 - val_loss: 0.1372\n",
      "Epoch 21/100\n",
      "60000/60000 [==============================] - 1s 20us/step - loss: 0.1355 - val_loss: 0.1364\n",
      "Epoch 22/100\n",
      "60000/60000 [==============================] - 1s 21us/step - loss: 0.1338 - val_loss: 0.1333\n",
      "Epoch 23/100\n",
      "60000/60000 [==============================] - 1s 21us/step - loss: 0.1322 - val_loss: 0.1301\n",
      "Epoch 24/100\n",
      "60000/60000 [==============================] - 1s 21us/step - loss: 0.1309 - val_loss: 0.1292\n",
      "Epoch 25/100\n",
      "60000/60000 [==============================] - 1s 21us/step - loss: 0.1296 - val_loss: 0.1278\n",
      "Epoch 26/100\n",
      "60000/60000 [==============================] - 1s 21us/step - loss: 0.1286 - val_loss: 0.1266\n",
      "Epoch 27/100\n",
      "60000/60000 [==============================] - 1s 22us/step - loss: 0.1274 - val_loss: 0.1246\n",
      "Epoch 28/100\n",
      "60000/60000 [==============================] - 1s 22us/step - loss: 0.1264 - val_loss: 0.1247\n",
      "Epoch 29/100\n",
      "60000/60000 [==============================] - 1s 21us/step - loss: 0.1253 - val_loss: 0.1227\n",
      "Epoch 30/100\n",
      "60000/60000 [==============================] - 1s 21us/step - loss: 0.1244 - val_loss: 0.1221\n",
      "Epoch 31/100\n",
      "60000/60000 [==============================] - 1s 22us/step - loss: 0.1234 - val_loss: 0.1240\n",
      "Epoch 32/100\n",
      "60000/60000 [==============================] - 1s 22us/step - loss: 0.1226 - val_loss: 0.1194\n",
      "Epoch 33/100\n",
      "60000/60000 [==============================] - 1s 21us/step - loss: 0.1215 - val_loss: 0.1199\n",
      "Epoch 34/100\n",
      "60000/60000 [==============================] - 1s 21us/step - loss: 0.1207 - val_loss: 0.1183\n",
      "Epoch 35/100\n",
      "60000/60000 [==============================] - 1s 21us/step - loss: 0.1199 - val_loss: 0.1171\n",
      "Epoch 36/100\n",
      "60000/60000 [==============================] - 1s 21us/step - loss: 0.1191 - val_loss: 0.1159\n",
      "Epoch 37/100\n",
      "60000/60000 [==============================] - ETA: 0s - loss: 0.118 - 1s 21us/step - loss: 0.1184 - val_loss: 0.1163\n",
      "Epoch 38/100\n",
      "60000/60000 [==============================] - 1s 21us/step - loss: 0.1177 - val_loss: 0.1149\n",
      "Epoch 39/100\n",
      "60000/60000 [==============================] - 1s 21us/step - loss: 0.1170 - val_loss: 0.1156\n",
      "Epoch 40/100\n",
      "60000/60000 [==============================] - 1s 20us/step - loss: 0.1163 - val_loss: 0.1147\n",
      "Epoch 41/100\n",
      "60000/60000 [==============================] - 1s 20us/step - loss: 0.1156 - val_loss: 0.1155\n",
      "Epoch 42/100\n",
      "60000/60000 [==============================] - 1s 20us/step - loss: 0.1150 - val_loss: 0.1122\n",
      "Epoch 43/100\n",
      "60000/60000 [==============================] - 1s 21us/step - loss: 0.1143 - val_loss: 0.1143\n",
      "Epoch 44/100\n",
      "60000/60000 [==============================] - 1s 22us/step - loss: 0.1137 - val_loss: 0.1124\n",
      "Epoch 45/100\n",
      "60000/60000 [==============================] - 1s 21us/step - loss: 0.1130 - val_loss: 0.1110\n",
      "Epoch 46/100\n",
      "60000/60000 [==============================] - 1s 20us/step - loss: 0.1125 - val_loss: 0.1112\n",
      "Epoch 47/100\n",
      "60000/60000 [==============================] - 1s 20us/step - loss: 0.1120 - val_loss: 0.1105\n",
      "Epoch 48/100\n",
      "60000/60000 [==============================] - 1s 21us/step - loss: 0.1115 - val_loss: 0.1096\n",
      "Epoch 49/100\n",
      "60000/60000 [==============================] - 1s 20us/step - loss: 0.1110 - val_loss: 0.1086\n",
      "Epoch 50/100\n",
      "60000/60000 [==============================] - 1s 20us/step - loss: 0.1104 - val_loss: 0.1090\n",
      "Epoch 51/100\n",
      "60000/60000 [==============================] - 1s 20us/step - loss: 0.1100 - val_loss: 0.1087\n",
      "Epoch 52/100\n",
      "60000/60000 [==============================] - 1s 20us/step - loss: 0.1096 - val_loss: 0.1088\n",
      "Epoch 53/100\n",
      "60000/60000 [==============================] - 1s 20us/step - loss: 0.1092 - val_loss: 0.1072\n",
      "Epoch 54/100\n",
      "60000/60000 [==============================] - 1s 20us/step - loss: 0.1088 - val_loss: 0.1082\n",
      "Epoch 55/100\n",
      "60000/60000 [==============================] - 1s 20us/step - loss: 0.1083 - val_loss: 0.1076\n",
      "Epoch 56/100\n",
      "60000/60000 [==============================] - 1s 20us/step - loss: 0.1079 - val_loss: 0.1058\n",
      "Epoch 57/100\n",
      "60000/60000 [==============================] - 1s 21us/step - loss: 0.1077 - val_loss: 0.1071\n",
      "Epoch 58/100\n",
      "60000/60000 [==============================] - 1s 21us/step - loss: 0.1072 - val_loss: 0.1078\n",
      "Epoch 59/100\n",
      "60000/60000 [==============================] - 1s 20us/step - loss: 0.1070 - val_loss: 0.1060\n",
      "Epoch 60/100\n",
      "60000/60000 [==============================] - 1s 21us/step - loss: 0.1066 - val_loss: 0.1047\n",
      "Epoch 61/100\n",
      "60000/60000 [==============================] - 1s 21us/step - loss: 0.1064 - val_loss: 0.1059\n",
      "Epoch 62/100\n",
      "60000/60000 [==============================] - 1s 20us/step - loss: 0.1062 - val_loss: 0.1053\n",
      "Epoch 63/100\n",
      "60000/60000 [==============================] - 1s 21us/step - loss: 0.1057 - val_loss: 0.1046\n",
      "Epoch 64/100\n",
      "60000/60000 [==============================] - 1s 20us/step - loss: 0.1055 - val_loss: 0.1035\n",
      "Epoch 65/100\n",
      "60000/60000 [==============================] - 1s 20us/step - loss: 0.1052 - val_loss: 0.1043\n",
      "Epoch 66/100\n",
      "60000/60000 [==============================] - 1s 20us/step - loss: 0.1050 - val_loss: 0.1041\n",
      "Epoch 67/100\n",
      "60000/60000 [==============================] - 1s 20us/step - loss: 0.1049 - val_loss: 0.1045\n",
      "Epoch 68/100\n",
      "60000/60000 [==============================] - 1s 20us/step - loss: 0.1045 - val_loss: 0.1035\n",
      "Epoch 69/100\n",
      "60000/60000 [==============================] - 1s 20us/step - loss: 0.1042 - val_loss: 0.1030\n",
      "Epoch 70/100\n",
      "60000/60000 [==============================] - 1s 21us/step - loss: 0.1040 - val_loss: 0.1032\n",
      "Epoch 71/100\n",
      "60000/60000 [==============================] - 1s 21us/step - loss: 0.1037 - val_loss: 0.1028\n",
      "Epoch 72/100\n",
      "60000/60000 [==============================] - 1s 20us/step - loss: 0.1035 - val_loss: 0.1028\n",
      "Epoch 73/100\n",
      "60000/60000 [==============================] - 1s 20us/step - loss: 0.1033 - val_loss: 0.1032\n",
      "Epoch 74/100\n",
      "60000/60000 [==============================] - 1s 20us/step - loss: 0.1031 - val_loss: 0.1023\n",
      "Epoch 75/100\n",
      "60000/60000 [==============================] - 1s 20us/step - loss: 0.1029 - val_loss: 0.1019\n",
      "Epoch 76/100\n",
      "60000/60000 [==============================] - 1s 20us/step - loss: 0.1025 - val_loss: 0.1022\n"
     ]
    },
    {
     "name": "stdout",
     "output_type": "stream",
     "text": [
      "Epoch 77/100\n",
      "60000/60000 [==============================] - 1s 20us/step - loss: 0.1024 - val_loss: 0.1004\n",
      "Epoch 78/100\n",
      "60000/60000 [==============================] - 1s 20us/step - loss: 0.1021 - val_loss: 0.1004\n",
      "Epoch 79/100\n",
      "60000/60000 [==============================] - 1s 20us/step - loss: 0.1021 - val_loss: 0.0999\n",
      "Epoch 80/100\n",
      "60000/60000 [==============================] - 1s 20us/step - loss: 0.1019 - val_loss: 0.1018\n",
      "Epoch 81/100\n",
      "60000/60000 [==============================] - 1s 20us/step - loss: 0.1016 - val_loss: 0.1005\n",
      "Epoch 82/100\n",
      "60000/60000 [==============================] - 1s 20us/step - loss: 0.1015 - val_loss: 0.1009\n",
      "Epoch 83/100\n",
      "60000/60000 [==============================] - 1s 21us/step - loss: 0.1014 - val_loss: 0.1017\n",
      "Epoch 84/100\n",
      "60000/60000 [==============================] - 1s 21us/step - loss: 0.1010 - val_loss: 0.1014\n",
      "Epoch 85/100\n",
      "60000/60000 [==============================] - 1s 20us/step - loss: 0.1011 - val_loss: 0.1004\n",
      "Epoch 86/100\n",
      "60000/60000 [==============================] - 1s 20us/step - loss: 0.1007 - val_loss: 0.1001\n",
      "Epoch 87/100\n",
      "60000/60000 [==============================] - 1s 20us/step - loss: 0.1006 - val_loss: 0.0992\n",
      "Epoch 88/100\n",
      "60000/60000 [==============================] - 1s 20us/step - loss: 0.1004 - val_loss: 0.1004\n",
      "Epoch 89/100\n",
      "60000/60000 [==============================] - 1s 20us/step - loss: 0.1003 - val_loss: 0.0992\n",
      "Epoch 90/100\n",
      "60000/60000 [==============================] - 1s 20us/step - loss: 0.1001 - val_loss: 0.1017\n",
      "Epoch 91/100\n",
      "60000/60000 [==============================] - 1s 20us/step - loss: 0.0999 - val_loss: 0.0997\n",
      "Epoch 92/100\n",
      "60000/60000 [==============================] - 1s 20us/step - loss: 0.0998 - val_loss: 0.0979\n",
      "Epoch 93/100\n",
      "60000/60000 [==============================] - 1s 20us/step - loss: 0.0997 - val_loss: 0.0992\n",
      "Epoch 94/100\n",
      "60000/60000 [==============================] - 1s 20us/step - loss: 0.0994 - val_loss: 0.0986\n",
      "Epoch 95/100\n",
      "60000/60000 [==============================] - 1s 20us/step - loss: 0.0994 - val_loss: 0.0990\n",
      "Epoch 96/100\n",
      "60000/60000 [==============================] - 1s 20us/step - loss: 0.0990 - val_loss: 0.0994\n",
      "Epoch 97/100\n",
      "60000/60000 [==============================] - 1s 22us/step - loss: 0.0991 - val_loss: 0.0973\n",
      "Epoch 98/100\n",
      "60000/60000 [==============================] - 1s 20us/step - loss: 0.0988 - val_loss: 0.1023\n",
      "Epoch 99/100\n",
      "60000/60000 [==============================] - 1s 20us/step - loss: 0.0988 - val_loss: 0.0985\n",
      "Epoch 100/100\n",
      "60000/60000 [==============================] - 1s 20us/step - loss: 0.0986 - val_loss: 0.0985\n"
     ]
    },
    {
     "data": {
      "text/plain": [
       "<keras.callbacks.callbacks.History at 0x1e5064f4ef0>"
      ]
     },
     "execution_count": 24,
     "metadata": {},
     "output_type": "execute_result"
    }
   ],
   "source": [
    "autoencoder = Model(input_img, decoded)\n",
    "autoencoder.compile(optimizer='adadelta', loss='binary_crossentropy')\n",
    "\n",
    "autoencoder.fit(x_train, x_train,\n",
    "                epochs=100,\n",
    "                batch_size=256,\n",
    "                shuffle=True,\n",
    "                validation_data=(x_test, x_test))"
   ]
  },
  {
   "cell_type": "code",
   "execution_count": 25,
   "metadata": {},
   "outputs": [
    {
     "data": {
      "image/png": "[encoded data removed]",
      "text/plain": [
       "<Figure size 1440x288 with 20 Axes>"
      ]
     },
     "metadata": {
      "needs_background": "light"
     },
     "output_type": "display_data"
    }
   ],
   "source": [
    "# use Matplotlib (don't ask)\n",
    "import matplotlib.pyplot as plt\n",
    "\n",
    "n = 10  # how many digits we will display\n",
    "plt.figure(figsize=(20, 4))\n",
    "for i in range(n):\n",
    "    # display original\n",
    "    ax = plt.subplot(2, n, i + 1)\n",
    "    plt.imshow(x_test[i].reshape(28, 28))\n",
    "    plt.gray()\n",
    "    ax.get_xaxis().set_visible(False)\n",
    "    ax.get_yaxis().set_visible(False)\n",
    "\n",
    "    # display reconstruction\n",
    "    ax = plt.subplot(2, n, i + 1 + n)\n",
    "    plt.imshow(decoded_imgs[i].reshape(28, 28))\n",
    "    plt.gray()\n",
    "    ax.get_xaxis().set_visible(False)\n",
    "    ax.get_yaxis().set_visible(False)\n",
    "plt.show()"
   ]
  },
  {
   "cell_type": "code",
   "execution_count": null,
   "metadata": {},
   "outputs": [],
   "source": []
  }
 ],
 "metadata": {
  "kernelspec": {
   "display_name": "Python 3",
   "language": "python",
   "name": "python3"
  },
  "language_info": {
   "codemirror_mode": {
    "name": "ipython",
    "version": 3
   },
   "file_extension": ".py",
   "mimetype": "text/x-python",
   "name": "python",
   "nbconvert_exporter": "python",
   "pygments_lexer": "ipython3",
   "version": "3.6.10"
  }
 },
 "nbformat": 4,
 "nbformat_minor": 4
}
