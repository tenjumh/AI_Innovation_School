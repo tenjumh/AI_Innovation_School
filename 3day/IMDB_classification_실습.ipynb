{
 "cells": [
  {
   "cell_type": "code",
   "execution_count": 2,
   "metadata": {
    "colab": {
     "base_uri": "https://localhost:8080/",
     "height": 53
    },
    "colab_type": "code",
    "id": "kDW8jZzuOdCR",
    "outputId": "aa565f11-5969-47bc-af1f-ac9de3a9ea4c"
   },
   "outputs": [
    {
     "data": {
      "text/plain": [
       "'2.3.1'"
      ]
     },
     "execution_count": 2,
     "metadata": {},
     "output_type": "execute_result"
    }
   ],
   "source": [
    "import keras\n",
    "import numpy as np\n",
    "keras.__version__"
   ]
  },
  {
   "cell_type": "code",
   "execution_count": 3,
   "metadata": {
    "colab": {},
    "colab_type": "code",
    "id": "YxvuZRiV9F31"
   },
   "outputs": [],
   "source": [
    "# !pip install numpy==1.16.1"
   ]
  },
  {
   "cell_type": "code",
   "execution_count": 4,
   "metadata": {
    "colab": {},
    "colab_type": "code",
    "id": "TWYvsGTfOdtB"
   },
   "outputs": [
    {
     "name": "stdout",
     "output_type": "stream",
     "text": [
      "Downloading data from https://s3.amazonaws.com/text-datasets/imdb.npz\n",
      "17465344/17464789 [==============================] - 6s 0us/step\n"
     ]
    }
   ],
   "source": [
    "from keras.datasets import imdb\n",
    "\n",
    "(train_data, train_labels), (test_data, test_labels) = imdb.load_data(num_words=10000)"
   ]
  },
  {
   "cell_type": "code",
   "execution_count": 5,
   "metadata": {},
   "outputs": [
    {
     "name": "stdout",
     "output_type": "stream",
     "text": [
      "[1, 14, 22, 16, 43, 530, 973, 1622, 1385, 65, 458, 4468, 66, 3941, 4, 173, 36, 256, 5, 25, 100, 43, 838, 112, 50, 670, 2, 9, 35, 480, 284, 5, 150, 4, 172, 112, 167, 2, 336, 385, 39, 4, 172, 4536, 1111, 17, 546, 38, 13, 447, 4, 192, 50, 16, 6, 147, 2025, 19, 14, 22, 4, 1920, 4613, 469, 4, 22, 71, 87, 12, 16, 43, 530, 38, 76, 15, 13, 1247, 4, 22, 17, 515, 17, 12, 16, 626, 18, 2, 5, 62, 386, 12, 8, 316, 8, 106, 5, 4, 2223, 5244, 16, 480, 66, 3785, 33, 4, 130, 12, 16, 38, 619, 5, 25, 124, 51, 36, 135, 48, 25, 1415, 33, 6, 22, 12, 215, 28, 77, 52, 5, 14, 407, 16, 82, 2, 8, 4, 107, 117, 5952, 15, 256, 4, 2, 7, 3766, 5, 723, 36, 71, 43, 530, 476, 26, 400, 317, 46, 7, 4, 2, 1029, 13, 104, 88, 4, 381, 15, 297, 98, 32, 2071, 56, 26, 141, 6, 194, 7486, 18, 4, 226, 22, 21, 134, 476, 26, 480, 5, 144, 30, 5535, 18, 51, 36, 28, 224, 92, 25, 104, 4, 226, 65, 16, 38, 1334, 88, 12, 16, 283, 5, 16, 4472, 113, 103, 32, 15, 16, 5345, 19, 178, 32]\n"
     ]
    }
   ],
   "source": [
    "print(train_data[0])"
   ]
  },
  {
   "cell_type": "code",
   "execution_count": 7,
   "metadata": {
    "colab": {},
    "colab_type": "code",
    "id": "8dFnDkLQIb_R"
   },
   "outputs": [],
   "source": [
    "def vectorize_sequences(sequences, dimension=10000):\n",
    "    # 크기가 (len(sequences), dimension))이고 모든 원소가 0인 행렬을 만듭니다\n",
    "    results = np.zeros((len(sequences), dimension))\n",
    "    print(results.shape)\n",
    "    for i, sequence in enumerate(sequences):\n",
    "        results[i, sequence] = 1.  # results[i]에서 특정 인덱스의 위치를 1로 만듭니다\n",
    "    return results"
   ]
  },
  {
   "cell_type": "code",
   "execution_count": 8,
   "metadata": {
    "colab": {
     "base_uri": "https://localhost:8080/",
     "height": 53
    },
    "colab_type": "code",
    "id": "L_hzLbHk9ZDM",
    "outputId": "03575c96-968f-4410-eec1-730165cda0d1"
   },
   "outputs": [
    {
     "name": "stdout",
     "output_type": "stream",
     "text": [
      "(25000, 10000)\n",
      "(25000, 10000)\n"
     ]
    }
   ],
   "source": [
    "# 훈련 데이터를 벡터로 변환합니다\n",
    "x_train = vectorize_sequences(train_data)\n",
    "# 테스트 데이터를 벡터로 변환합니다\n",
    "x_test = vectorize_sequences(test_data)"
   ]
  },
  {
   "cell_type": "code",
   "execution_count": 9,
   "metadata": {
    "colab": {},
    "colab_type": "code",
    "id": "nbN6jpTY9mbT"
   },
   "outputs": [],
   "source": [
    "# 레이블을 벡터로 바꿉니다\n",
    "y_train = np.asarray(train_labels).astype('float32')\n",
    "y_test = np.asarray(test_labels).astype('float32')"
   ]
  },
  {
   "cell_type": "code",
   "execution_count": 11,
   "metadata": {
    "colab": {},
    "colab_type": "code",
    "id": "gdYuaiGw9ylT"
   },
   "outputs": [],
   "source": [
    "# Data split (validation data)\n",
    "x_val = x_train[:10000]\n",
    "partial_x_train = x_train[10000:]\n",
    "\n",
    "y_val = y_train[:10000]\n",
    "partial_y_train = y_train[10000:]"
   ]
  },
  {
   "cell_type": "code",
   "execution_count": 12,
   "metadata": {
    "colab": {
     "base_uri": "https://localhost:8080/",
     "height": 71
    },
    "colab_type": "code",
    "id": "KiWTioFD9Y5E",
    "outputId": "6e698b54-77bb-4ea3-fdb8-2ad4b407883e"
   },
   "outputs": [
    {
     "name": "stdout",
     "output_type": "stream",
     "text": [
      "Downloading data from https://s3.amazonaws.com/text-datasets/imdb_word_index.json\n",
      "1646592/1641221 [==============================] - 2s 1us/step\n"
     ]
    }
   ],
   "source": [
    "word_index = imdb.get_word_index()\n",
    "reverse_word_index = dict([(value, key) for (key, value) in word_index.items()])\n",
    "decoded_review = ' '.join([reverse_word_index.get(i - 3, '?') for i in train_data[0]])"
   ]
  },
  {
   "cell_type": "code",
   "execution_count": 13,
   "metadata": {
    "colab": {
     "base_uri": "https://localhost:8080/",
     "height": 55
    },
    "colab_type": "code",
    "id": "HXdH_HhdI3Zr",
    "outputId": "c2a46731-4232-475d-d8fb-126a6afe1400"
   },
   "outputs": [
    {
     "data": {
      "text/plain": [
       "\"? this film was just brilliant casting location scenery story direction everyone's really suited the part they played and you could just imagine being there robert ? is an amazing actor and now the same being director ? father came from the same scottish island as myself so i loved the fact there was a real connection with this film the witty remarks throughout the film were great it was just brilliant so much that i bought the film as soon as it was released for ? and would recommend it to everyone to watch and the fly fishing was amazing really cried at the end it was so sad and you know what they say if you cry at a film it must have been good and this definitely was also ? to the two little boy's that played the ? of norman and paul they were just brilliant children are often left out of the ? list i think because the stars that play them all grown up are such a big profile for the whole film but these children are amazing and should be praised for what they have done don't you think the whole story was so lovely because it was true and was someone's life after all that was shared with us all\""
      ]
     },
     "execution_count": 13,
     "metadata": {},
     "output_type": "execute_result"
    }
   ],
   "source": [
    "decoded_review"
   ]
  },
  {
   "cell_type": "code",
   "execution_count": 15,
   "metadata": {
    "colab": {
     "base_uri": "https://localhost:8080/",
     "height": 162
    },
    "colab_type": "code",
    "id": "md5alZT2JKws",
    "outputId": "174db998-24e9-4574-e5af-a88295db1405"
   },
   "outputs": [],
   "source": [
    "# Build Model\n",
    "\n",
    "from keras import models\n",
    "from keras import layers\n",
    "\n",
    "model = models.Sequential()\n",
    "model.add(layers.Dense(16, activation='relu', input_shape=(10000,)))\n",
    "model.add(layers.Dense(16, activation='relu'))\n",
    "model.add(layers.Dense(1, activation='sigmoid'))"
   ]
  },
  {
   "cell_type": "code",
   "execution_count": 16,
   "metadata": {
    "colab": {
     "base_uri": "https://localhost:8080/",
     "height": 162
    },
    "colab_type": "code",
    "id": "maggx61dJQLy",
    "outputId": "6d2421c9-39a4-412a-b886-1f40a4db25a7"
   },
   "outputs": [],
   "source": [
    "# Model Compile\n",
    "\n",
    "model.compile(optimizer='rmsprop',\n",
    "             loss='mse',\n",
    "             metrics=['accuracy'])"
   ]
  },
  {
   "cell_type": "code",
   "execution_count": 17,
   "metadata": {
    "colab": {
     "base_uri": "https://localhost:8080/",
     "height": 807
    },
    "colab_type": "code",
    "id": "ns8Vg8VVJnji",
    "outputId": "34490410-e4d4-45dc-d304-2ea3aae31e73"
   },
   "outputs": [
    {
     "name": "stdout",
     "output_type": "stream",
     "text": [
      "WARNING:tensorflow:From C:\\Anaconda3\\envs\\nlp\\lib\\site-packages\\tensorflow\\python\\ops\\math_ops.py:3066: to_int32 (from tensorflow.python.ops.math_ops) is deprecated and will be removed in a future version.\n",
      "Instructions for updating:\n",
      "Use tf.cast instead.\n",
      "Train on 15000 samples, validate on 10000 samples\n",
      "Epoch 1/20\n",
      "15000/15000 [==============================] - 7s 463us/step - loss: 0.1701 - accuracy: 0.7844 - val_loss: 0.1271 - val_accuracy: 0.8611\n",
      "Epoch 2/20\n",
      "15000/15000 [==============================] - 4s 283us/step - loss: 0.0948 - accuracy: 0.9049 - val_loss: 0.0954 - val_accuracy: 0.8866\n",
      "Epoch 3/20\n",
      "15000/15000 [==============================] - 4s 254us/step - loss: 0.0667 - accuracy: 0.9313 - val_loss: 0.0909 - val_accuracy: 0.8808\n",
      "Epoch 4/20\n",
      "15000/15000 [==============================] - 4s 244us/step - loss: 0.0513 - accuracy: 0.9463 - val_loss: 0.0859 - val_accuracy: 0.8861\n",
      "Epoch 5/20\n",
      "15000/15000 [==============================] - 4s 249us/step - loss: 0.0414 - accuracy: 0.9591 - val_loss: 0.0907 - val_accuracy: 0.8766\n",
      "Epoch 6/20\n",
      "15000/15000 [==============================] - 4s 256us/step - loss: 0.0342 - accuracy: 0.9659 - val_loss: 0.0845 - val_accuracy: 0.8847\n",
      "Epoch 7/20\n",
      "15000/15000 [==============================] - 4s 248us/step - loss: 0.0263 - accuracy: 0.9760 - val_loss: 0.0865 - val_accuracy: 0.8818\n",
      "Epoch 8/20\n",
      "15000/15000 [==============================] - 4s 253us/step - loss: 0.0227 - accuracy: 0.9797 - val_loss: 0.0880 - val_accuracy: 0.8797\n",
      "Epoch 9/20\n",
      "15000/15000 [==============================] - 4s 248us/step - loss: 0.0179 - accuracy: 0.9854 - val_loss: 0.0902 - val_accuracy: 0.8780\n",
      "Epoch 10/20\n",
      "15000/15000 [==============================] - 4s 253us/step - loss: 0.0153 - accuracy: 0.9879 - val_loss: 0.0920 - val_accuracy: 0.8777\n",
      "Epoch 11/20\n",
      "15000/15000 [==============================] - 4s 250us/step - loss: 0.0126 - accuracy: 0.9901 - val_loss: 0.0980 - val_accuracy: 0.8682\n",
      "Epoch 12/20\n",
      "15000/15000 [==============================] - 4s 261us/step - loss: 0.0109 - accuracy: 0.9915 - val_loss: 0.0961 - val_accuracy: 0.8745\n",
      "Epoch 13/20\n",
      "15000/15000 [==============================] - 4s 242us/step - loss: 0.0089 - accuracy: 0.9932 - val_loss: 0.1005 - val_accuracy: 0.8721\n",
      "Epoch 14/20\n",
      "15000/15000 [==============================] - 4s 246us/step - loss: 0.0085 - accuracy: 0.9925 - val_loss: 0.1002 - val_accuracy: 0.8734\n",
      "Epoch 15/20\n",
      "15000/15000 [==============================] - 4s 253us/step - loss: 0.0052 - accuracy: 0.9962 - val_loss: 0.1016 - val_accuracy: 0.8708\n",
      "Epoch 16/20\n",
      "15000/15000 [==============================] - 4s 250us/step - loss: 0.0062 - accuracy: 0.9945 - val_loss: 0.1040 - val_accuracy: 0.8678\n",
      "Epoch 17/20\n",
      "15000/15000 [==============================] - 4s 248us/step - loss: 0.0049 - accuracy: 0.9959 - val_loss: 0.1040 - val_accuracy: 0.8709\n",
      "Epoch 18/20\n",
      "15000/15000 [==============================] - 4s 247us/step - loss: 0.0034 - accuracy: 0.9971 - val_loss: 0.1076 - val_accuracy: 0.8655\n",
      "Epoch 19/20\n",
      "15000/15000 [==============================] - 4s 257us/step - loss: 0.0053 - accuracy: 0.9949 - val_loss: 0.1083 - val_accuracy: 0.8647\n",
      "Epoch 20/20\n",
      "15000/15000 [==============================] - 4s 244us/step - loss: 0.0028 - accuracy: 0.9975 - val_loss: 0.1091 - val_accuracy: 0.8646\n"
     ]
    }
   ],
   "source": [
    "# Model Training and save training history\n",
    "\n",
    "history = model.fit(partial_x_train, partial_y_train, epochs=20, batch_size=512, validation_data=(x_val, y_val))"
   ]
  },
  {
   "cell_type": "code",
   "execution_count": 18,
   "metadata": {
    "colab": {
     "base_uri": "https://localhost:8080/",
     "height": 35
    },
    "colab_type": "code",
    "id": "1ILOMEWAJpE6",
    "outputId": "4c83b8df-96ba-41ac-ae32-22080631be33"
   },
   "outputs": [
    {
     "data": {
      "text/plain": [
       "dict_keys(['val_loss', 'val_accuracy', 'loss', 'accuracy'])"
      ]
     },
     "execution_count": 18,
     "metadata": {},
     "output_type": "execute_result"
    }
   ],
   "source": [
    "history_dict = history.history\n",
    "history_dict.keys()"
   ]
  },
  {
   "cell_type": "code",
   "execution_count": 24,
   "metadata": {
    "colab": {
     "base_uri": "https://localhost:8080/",
     "height": 295
    },
    "colab_type": "code",
    "id": "8z9wfe3nJ31b",
    "outputId": "3054c27a-9118-433f-8300-31f8ac098c4e"
   },
   "outputs": [
    {
     "data": {
      "image/png": "[encoded data removed]",
      "text/plain": [
       "<Figure size 432x288 with 1 Axes>"
      ]
     },
     "metadata": {
      "needs_background": "light"
     },
     "output_type": "display_data"
    }
   ],
   "source": [
    "import matplotlib.pyplot as plt\n",
    "\n",
    "acc = history.history['accuracy']\n",
    "# acc = history.history['acc']\n",
    "val_acc = history.history['val_accuracy']\n",
    "# val_acc = history.history['val_acc']\n",
    "loss = history.history['loss']\n",
    "val_loss = history.history['val_loss']\n",
    "\n",
    "epochs = range(1, len(acc) + 1)\n",
    "\n",
    "# ‘bo’는 파란색 점을 의미합니다\n",
    "plt.plot(epochs, loss, 'bo', label='Training loss')\n",
    "# ‘b’는 파란색 실선을 의미합니다\n",
    "plt.plot(epochs, val_loss, 'b', label='Validation loss')\n",
    "plt.title('Training and validation loss')\n",
    "plt.xlabel('Epochs')\n",
    "plt.ylabel('Loss')\n",
    "plt.legend()\n",
    "\n",
    "plt.show()"
   ]
  },
  {
   "cell_type": "code",
   "execution_count": 26,
   "metadata": {
    "colab": {
     "base_uri": "https://localhost:8080/",
     "height": 295
    },
    "colab_type": "code",
    "id": "A6I6UvR5J6rC",
    "outputId": "c162060e-9035-477e-b9cc-b019c82666ae"
   },
   "outputs": [
    {
     "data": {
      "image/png": "[encoded data removed]",
      "text/plain": [
       "<Figure size 432x288 with 1 Axes>"
      ]
     },
     "metadata": {
      "needs_background": "light"
     },
     "output_type": "display_data"
    }
   ],
   "source": [
    "plt.clf()   # 그래프를 초기화합니다\n",
    "acc = history_dict['accuracy']\n",
    "val_acc = history_dict['val_accuracy']\n",
    "\n",
    "plt.plot(epochs, acc, 'bo', label='Training acc')\n",
    "plt.plot(epochs, val_acc, 'b', label='Validation acc')\n",
    "plt.title('Training and validation accuracy')\n",
    "plt.xlabel('Epochs')\n",
    "plt.ylabel('Accuracy')\n",
    "plt.legend()\n",
    "\n",
    "plt.show()"
   ]
  },
  {
   "cell_type": "code",
   "execution_count": 27,
   "metadata": {
    "colab": {
     "base_uri": "https://localhost:8080/",
     "height": 178
    },
    "colab_type": "code",
    "id": "DgD06sevKKbK",
    "outputId": "bcff528a-5ac4-4faa-fc50-54f274acfb2e"
   },
   "outputs": [
    {
     "name": "stdout",
     "output_type": "stream",
     "text": [
      "Epoch 1/4\n",
      "25000/25000 [==============================] - 5s 198us/step - loss: 0.5005 - accuracy: 0.8131\n",
      "Epoch 2/4\n",
      "25000/25000 [==============================] - 4s 166us/step - loss: 0.2875 - accuracy: 0.9035\n",
      "Epoch 3/4\n",
      "25000/25000 [==============================] - 4s 169us/step - loss: 0.2172 - accuracy: 0.9241\n",
      "Epoch 4/4\n",
      "25000/25000 [==============================] - 4s 167us/step - loss: 0.1814 - accuracy: 0.9359\n"
     ]
    },
    {
     "data": {
      "text/plain": [
       "<keras.callbacks.callbacks.History at 0x279d21eacf8>"
      ]
     },
     "execution_count": 27,
     "metadata": {},
     "output_type": "execute_result"
    }
   ],
   "source": [
    "model = models.Sequential()\n",
    "model.add(layers.Dense(16, activation='relu', input_shape=(10000,)))\n",
    "model.add(layers.Dense(16, activation='relu'))\n",
    "model.add(layers.Dense(1, activation='sigmoid'))\n",
    "\n",
    "model.compile(optimizer='rmsprop',\n",
    "              loss='binary_crossentropy',\n",
    "              metrics=['accuracy'])\n",
    "\n",
    "model.fit(x_train, y_train, epochs=4, batch_size=512)"
   ]
  },
  {
   "cell_type": "code",
   "execution_count": 28,
   "metadata": {
    "colab": {},
    "colab_type": "code",
    "id": "ClvXN2qwLJXJ"
   },
   "outputs": [],
   "source": [
    "result = model.predict(x_test)"
   ]
  },
  {
   "cell_type": "code",
   "execution_count": 29,
   "metadata": {
    "colab": {
     "base_uri": "https://localhost:8080/",
     "height": 142
    },
    "colab_type": "code",
    "id": "svnrqfTsAQdW",
    "outputId": "63c40f55-42e0-4d3f-fe2e-01bb8a84f673"
   },
   "outputs": [
    {
     "data": {
      "text/plain": [
       "array([[0.22977671],\n",
       "       [0.9999511 ],\n",
       "       [0.9379095 ],\n",
       "       ...,\n",
       "       [0.1295138 ],\n",
       "       [0.10708806],\n",
       "       [0.59249234]], dtype=float32)"
      ]
     },
     "execution_count": 29,
     "metadata": {},
     "output_type": "execute_result"
    }
   ],
   "source": [
    "result"
   ]
  },
  {
   "cell_type": "code",
   "execution_count": 30,
   "metadata": {
    "colab": {},
    "colab_type": "code",
    "id": "i1pvSicWLKMo"
   },
   "outputs": [],
   "source": [
    "#  thresholding\n",
    "\n",
    "for i in range(len(result)):\n",
    "    if result[i] > 0.5:\n",
    "        result[i] = 1\n",
    "    else:\n",
    "        result[i] = 0"
   ]
  },
  {
   "cell_type": "code",
   "execution_count": 31,
   "metadata": {
    "colab": {
     "base_uri": "https://localhost:8080/",
     "height": 142
    },
    "colab_type": "code",
    "id": "wKguiRsM_t1n",
    "outputId": "9b68188b-7699-452c-d94b-e26a26ade998"
   },
   "outputs": [
    {
     "data": {
      "text/plain": [
       "array([[0.],\n",
       "       [1.],\n",
       "       [1.],\n",
       "       ...,\n",
       "       [0.],\n",
       "       [0.],\n",
       "       [1.]], dtype=float32)"
      ]
     },
     "execution_count": 31,
     "metadata": {},
     "output_type": "execute_result"
    }
   ],
   "source": [
    "result"
   ]
  },
  {
   "cell_type": "code",
   "execution_count": 0,
   "metadata": {
    "colab": {},
    "colab_type": "code",
    "id": "53OhHbL0AZF4"
   },
   "outputs": [],
   "source": []
  }
 ],
 "metadata": {
  "colab": {
   "collapsed_sections": [],
   "name": "IMDB_classification_실습.ipynb",
   "provenance": [],
   "version": "0.3.2"
  },
  "kernelspec": {
   "display_name": "Python 3",
   "language": "python",
   "name": "python3"
  },
  "language_info": {
   "codemirror_mode": {
    "name": "ipython",
    "version": 3
   },
   "file_extension": ".py",
   "mimetype": "text/x-python",
   "name": "python",
   "nbconvert_exporter": "python",
   "pygments_lexer": "ipython3",
   "version": "3.6.10"
  }
 },
 "nbformat": 4,
 "nbformat_minor": 1
}
