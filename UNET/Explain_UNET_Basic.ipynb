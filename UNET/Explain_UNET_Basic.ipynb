{
 "cells": [
  {
   "attachments": {},
   "cell_type": "markdown",
   "metadata": {},
   "source": [
    "# UNET Introduction\n",
    "\n",
    "- U-Net 모델은 binary segmentation하여 배경과 물체를 pixel-wise 분류하는 Simple한 Fully Convolutional Neural Network이다.\n",
    "- 크게 두 부분으로 구성되어진다.\n",
    "- 1) Contracting Path : Conv layer와 Downsampling (MaxPooling 또는 Cov2DTranspose)로 사이즈를 줄여가며 Feature를 뽑아낸다.\n",
    "- 2) Expanding Path : Upsampling layer를 통해 사이즈를 복원한다.\n",
    "- 그리고 2 부분이 같은 사이즈의 레벨에서 Contracting에서 저장된 feature를 Concatenation을 통해 Expanding에 붙여준다.\n",
    "- 마지막에는 Conv layer를 통해 1x1 1channel을 통해 sigmoid로 분류를 한다.\n",
    "</br>\n",
    "\n",
    "![Unet.png](https://github.com/tenjumh/AI_Innovation_School/blob/master/UNET/image/Unet.png?raw=True)"
   ]
  },
  {
   "cell_type": "markdown",
   "metadata": {},
   "source": [
    "## Imports module"
   ]
  },
  {
   "cell_type": "code",
   "execution_count": 1,
   "metadata": {},
   "outputs": [],
   "source": [
    "import numpy as np\n",
    "import matplotlib.pyplot as plt\n",
    "import os\n",
    "from PIL import Image\n",
    "import keras\n",
    "from keras.models import Model\n",
    "from keras.layers import Conv2D, MaxPooling2D, Input, Conv2DTranspose, Concatenate, BatchNormalization, UpSampling2D\n",
    "from keras.layers import Dropout, Activation\n",
    "from keras.optimizers import Adam, SGD\n",
    "from keras.layers.advanced_activations import LeakyReLU\n",
    "from keras.callbacks import ModelCheckpoint, ReduceLROnPlateau, EarlyStopping\n",
    "from keras.losses import binary_crossentropy\n",
    "from keras.losses import categorical_crossentropy\n",
    "from keras.utils import to_categorical\n",
    "from keras import backend as K\n",
    "from keras.utils import plot_model\n",
    "import tensorflow as tf\n",
    "import glob\n",
    "import random\n",
    "import cv2\n",
    "from random import shuffle"
   ]
  },
  {
   "cell_type": "markdown",
   "metadata": {},
   "source": [
    "## Dataset\n",
    "- Ixford-IIIT Pet Datase을 사용할 것이다.\n",
    "- 각 클래스당 200여개의 이미지로 개와 고양이 37 클래스가 포함되어 있다.\n",
    "- 데이타셋은 세그멘테이션 마스크와 바운딩 박스 레이블이 포함되어 있다.\n",
    "![dataset](http://www.robots.ox.ac.uk/~vgg/data/pets/pet_annotations.jpg)\n",
    "\n",
    "- 참고 URL : http://www.robots.ox.ac.uk/~vgg/data/pets/\n",
    "- Download : Dataset and Groundtruth data"
   ]
  },
  {
   "cell_type": "markdown",
   "metadata": {},
   "source": [
    "## Generators"
   ]
  },
  {
   "cell_type": "code",
   "execution_count": 2,
   "metadata": {},
   "outputs": [],
   "source": [
    "def image_generator(files, batch_size=32, sz=(256,256)):\n",
    "    while True:\n",
    "        # 램덤으로 배치 추출\n",
    "        batch = np.random.choice(files, size=batch_size)\n",
    "        \n",
    "        # input, output의 담을 리스트 준비\n",
    "        batch_x = []\n",
    "        batch_y = []\n",
    "        \n",
    "        for f in batch:\n",
    "            # mask를 뽑기\n",
    "            mask = Image.open(f'./data/annotations/trimaps/{f[:-4]}.png')\n",
    "            mask = np.array(mask.resize(sz))          "
   ]
  },
  {
   "cell_type": "code",
   "execution_count": null,
   "metadata": {},
   "outputs": [],
   "source": []
  },
  {
   "cell_type": "code",
   "execution_count": null,
   "metadata": {},
   "outputs": [],
   "source": []
  },
  {
   "cell_type": "markdown",
   "metadata": {},
   "source": [
    "The intersection over union (IoU) metric is a simple metric used to evaluate the performance of a segmentation algorithm. Given two masks $x_{true}, x_{pred}$ we evaluate \n",
    "\n",
    "$$IoU = \\frac{y_{true} \\cap y_{pred}}{y_{true} \\cup y_{pred}}$$"
   ]
  },
  {
   "cell_type": "code",
   "execution_count": null,
   "metadata": {},
   "outputs": [],
   "source": []
  }
 ],
 "metadata": {
  "kernelspec": {
   "display_name": "Python 3",
   "language": "python",
   "name": "python3"
  },
  "language_info": {
   "codemirror_mode": {
    "name": "ipython",
    "version": 3
   },
   "file_extension": ".py",
   "mimetype": "text/x-python",
   "name": "python",
   "nbconvert_exporter": "python",
   "pygments_lexer": "ipython3",
   "version": "3.6.10"
  }
 },
 "nbformat": 4,
 "nbformat_minor": 4
}
